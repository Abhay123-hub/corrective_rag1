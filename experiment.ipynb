{
 "cells": [
  {
   "cell_type": "code",
   "execution_count": 13,
   "metadata": {},
   "outputs": [],
   "source": [
    "import os\n",
    "from dotenv import load_dotenv\n",
    "load_dotenv()\n",
    "api_key = os.getenv(\"GOOGLE_API_KEY\") ## this is my google gemini api key"
   ]
  },
  {
   "cell_type": "code",
   "execution_count": 14,
   "metadata": {},
   "outputs": [],
   "source": [
    "from langchain_google_genai import GoogleGenerativeAIEmbeddings,ChatGoogleGenerativeAI\n",
    "embeddings = GoogleGenerativeAIEmbeddings(model = \"models/em\")\n",
    "llm = ChatGoogleGenerativeAI(model = \"gemini-1.5-flash\",api_key=api_key)"
   ]
  },
  {
   "cell_type": "code",
   "execution_count": 74,
   "metadata": {},
   "outputs": [],
   "source": [
    "import os\n",
    "api_key = os.getenv(\"OPENAI_API_KEY\")\n",
    "\n"
   ]
  },
  {
   "cell_type": "code",
   "execution_count": 16,
   "metadata": {},
   "outputs": [],
   "source": [
    "from langchain_openai import ChatOpenAI,OpenAIEmbeddings\n",
    "llm = ChatOpenAI(model = \"gpt-3.5-turbo\",api_key=api_key)\n",
    "embeddings = OpenAIEmbeddings(model = \"text-embedding-3-small\")"
   ]
  },
  {
   "cell_type": "code",
   "execution_count": 17,
   "metadata": {},
   "outputs": [
    {
     "data": {
      "text/plain": [
       "'As of September 2021, the Prime Minister of India is Narendra Modi.'"
      ]
     },
     "execution_count": 17,
     "metadata": {},
     "output_type": "execute_result"
    }
   ],
   "source": [
    "llm.invoke(\"who is pm of India?\").content"
   ]
  },
  {
   "cell_type": "code",
   "execution_count": 18,
   "metadata": {},
   "outputs": [],
   "source": [
    "## so here i am going to create the corrective rag system\n",
    "## so what actually the corrective rag system\n",
    "## how the corrective rag system is different from basic rag system\n",
    "## in corrective rag system there are two parts\n",
    "## first part is normal rag and second part is web search\n",
    "## when the suer will ask any question it will go to rag \n",
    "## then we will retrieve some documents related to question\n",
    "## then both the question and extracted documents will be sent to document grader\n",
    "## thsi document grader will be formed of llm and prompt\n",
    "## this document grader will check either the extracted document matches with suer question\n",
    "## or not. if the question matches with extracted documents then we will generate teh response \n",
    "## if not then we will modify the user question using the transform query\n",
    "## and this transformed query will be sent to web search\n",
    "## and what ever docuuments we will extarct from web search \n",
    "## those documnents along with user question will be sent to llm\n",
    "## in order to generate the response\n"
   ]
  },
  {
   "cell_type": "code",
   "execution_count": null,
   "metadata": {},
   "outputs": [],
   "source": []
  },
  {
   "cell_type": "code",
   "execution_count": 19,
   "metadata": {},
   "outputs": [],
   "source": [
    "## first i will create the rag  system\n",
    "from langchain.text_splitter import RecursiveCharacterTextSplitter\n",
    "from langchain_community.document_loaders import WebBaseLoader\n",
    "from langchain_community.vectorstores import Chroma\n",
    "urls = [\n",
    "    \"https://lilianweng.github.io/posts/2023-06-23-agent/\",\n",
    "    \"https://lilianweng.github.io/posts/2023-03-15-prompt-engineering/\",\n",
    "    \"https://lilianweng.github.io/posts/2023-10-25-adv-attack-llm/\",\n",
    "]\n",
    "docs = [WebBaseLoader(url).load() for url in urls] ## i loaded text data from website to my local system\n",
    "docs_list = [item for sublist in docs for item in sublist] ## i put all data from all websites in a single list\n",
    "text_splitter = RecursiveCharacterTextSplitter(chunk_size = 200,chunk_overlap = 10) ## created text splitter \n",
    "docs_split = text_splitter.split_documents(docs_list) ## splitted my text data into chunks\n",
    "## now i will be creating the vector store where whole text data will be stored in form of word vector embeddings\n",
    "vectorstore = Chroma.from_documents(\n",
    "    documents=docs_split,\n",
    "    embedding=embeddings,\n",
    "    collection_name=\"rag-chrome\"\n",
    ")\n"
   ]
  },
  {
   "cell_type": "code",
   "execution_count": 20,
   "metadata": {},
   "outputs": [],
   "source": [
    "## till here i have created my vector store\n",
    "## where whole text data is stored in vector databse in form of word vector embeddings\n",
    "## now i will create the retriever on top of this vectorstore\n",
    "## so that i can retrieve the relevant documents form the vector database"
   ]
  },
  {
   "cell_type": "code",
   "execution_count": 21,
   "metadata": {},
   "outputs": [],
   "source": [
    "retriever = vectorstore.as_retriever()"
   ]
  },
  {
   "cell_type": "code",
   "execution_count": 22,
   "metadata": {},
   "outputs": [
    {
     "name": "stderr",
     "output_type": "stream",
     "text": [
      "c:\\corrective_rag1\\venv\\lib\\site-packages\\langsmith\\client.py:253: LangSmithMissingAPIKeyWarning: API key must be provided when using hosted LangSmith API\n",
      "  warnings.warn(\n"
     ]
    },
    {
     "name": "stdout",
     "output_type": "stream",
     "text": [
      "input_variables=['context', 'question'] input_types={} partial_variables={} metadata={'lc_hub_owner': 'rlm', 'lc_hub_repo': 'rag-prompt', 'lc_hub_commit_hash': '50442af133e61576e74536c6556cefe1fac147cad032f4377b60c436e6cdcb6e'} messages=[HumanMessagePromptTemplate(prompt=PromptTemplate(input_variables=['context', 'question'], input_types={}, partial_variables={}, template=\"You are an assistant for question-answering tasks. Use the following pieces of retrieved context to answer the question. If you don't know the answer, just say that you don't know. Use three sentences maximum and keep the answer concise.\\nQuestion: {question} \\nContext: {context} \\nAnswer:\"), additional_kwargs={})]\n"
     ]
    }
   ],
   "source": [
    "## now i will create the rag chain of this retriever\n",
    "from langchain import hub\n",
    "from langchain_core.output_parsers import StrOutputParser\n",
    "prompt = hub.pull(\"rlm/rag-prompt\")\n",
    "print(prompt)\n",
    "rag_chain = prompt | llm | StrOutputParser()\n"
   ]
  },
  {
   "cell_type": "code",
   "execution_count": 23,
   "metadata": {},
   "outputs": [
    {
     "name": "stdout",
     "output_type": "stream",
     "text": [
      "Agentic AI refers to autonomous agent systems where a large language model (LLM) serves as the core controller. LLM functions as the agent's brain, with key components like planning, memory, and tool use supporting its operations. This setup allows the agent to efficiently handle complex tasks, reflect on past actions, and leverage external resources for additional information.\n"
     ]
    }
   ],
   "source": [
    "question = \"what is agentic ai?\"\n",
    "documents = retriever.invoke(question)\n",
    "response = rag_chain.invoke({\"question\":question,\"context\":documents})\n",
    "print(response) ## so my normal rag system is working fine"
   ]
  },
  {
   "cell_type": "code",
   "execution_count": 24,
   "metadata": {},
   "outputs": [
    {
     "data": {
      "text/plain": [
       "Document(metadata={'description': 'Building agents with LLM (large language model) as its core controller is a cool concept. Several proof-of-concepts demos, such as AutoGPT, GPT-Engineer and BabyAGI, serve as inspiring examples. The potentiality of LLM extends beyond generating well-written copies, stories, essays and programs; it can be framed as a powerful general problem solver.\\nAgent System Overview\\nIn a LLM-powered autonomous agent system, LLM functions as the agent’s brain, complemented by several key components:\\n\\nPlanning\\n\\nSubgoal and decomposition: The agent breaks down large tasks into smaller, manageable subgoals, enabling efficient handling of complex tasks.\\nReflection and refinement: The agent can do self-criticism and self-reflection over past actions, learn from mistakes and refine them for future steps, thereby improving the quality of final results.\\n\\n\\nMemory\\n\\nShort-term memory: I would consider all the in-context learning (See Prompt Engineering) as utilizing short-term memory of the model to learn.\\nLong-term memory: This provides the agent with the capability to retain and recall (infinite) information over extended periods, often by leveraging an external vector store and fast retrieval.\\n\\n\\nTool use\\n\\nThe agent learns to call external APIs for extra information that is missing from the model weights (often hard to change after pre-training), including current information, code execution capability, access to proprietary information sources and more.\\n\\n\\n\\n\\nFig. 1. Overview of a LLM-powered autonomous agent system.\\nComponent One: Planning\\nA complicated task usually involves many steps. An agent needs to know what they are and plan ahead.', 'language': 'en', 'source': 'https://lilianweng.github.io/posts/2023-06-23-agent/', 'title': \"LLM Powered Autonomous Agents | Lil'Log\"}, page_content='by The Sims. Generative agents create believable simulacra of human behavior for interactive applications.')"
      ]
     },
     "execution_count": 24,
     "metadata": {},
     "output_type": "execute_result"
    }
   ],
   "source": [
    "documents[0]"
   ]
  },
  {
   "cell_type": "code",
   "execution_count": 25,
   "metadata": {},
   "outputs": [
    {
     "name": "stderr",
     "output_type": "stream",
     "text": [
      "c:\\corrective_rag1\\venv\\lib\\site-packages\\IPython\\core\\interactiveshell.py:3579: LangChainDeprecationWarning: As of langchain-core 0.3.0, LangChain uses pydantic v2 internally. The langchain_core.pydantic_v1 module was a compatibility shim for pydantic v1, and should no longer be used. Please update the code to import from Pydantic directly.\n",
      "\n",
      "For example, replace imports like: `from langchain_core.pydantic_v1 import BaseModel`\n",
      "with: `from pydantic import BaseModel`\n",
      "or the v1 compatibility namespace if you are working in a code base that has not been fully upgraded to pydantic 2 yet. \tfrom pydantic.v1 import BaseModel\n",
      "\n",
      "  exec(code_obj, self.user_global_ns, self.user_ns)\n"
     ]
    }
   ],
   "source": [
    "## so let us create the document grader\n",
    "from langchain_core.prompts import ChatPromptTemplate ##\n",
    "from langchain_core.pydantic_v1 import BaseModel, Field\n",
    "\n",
    "class Grader(BaseModel):\n",
    "    \"binary_score for relevance check on the retriever documents\"\n",
    "    binary_score:str = Field(\n",
    "        description=\"Documents are relevant to the question 'yes' or 'no' \"\n",
    "    )"
   ]
  },
  {
   "cell_type": "code",
   "execution_count": 26,
   "metadata": {},
   "outputs": [
    {
     "name": "stderr",
     "output_type": "stream",
     "text": [
      "c:\\corrective_rag1\\venv\\lib\\site-packages\\langchain_openai\\chat_models\\base.py:1362: UserWarning: Received a Pydantic BaseModel V1 schema. This is not supported by method=\"json_schema\". Please use method=\"function_calling\" or specify schema via JSON Schema or Pydantic V2 BaseModel. Overriding to method=\"function_calling\".\n",
      "  warnings.warn(\n",
      "c:\\corrective_rag1\\venv\\lib\\site-packages\\langchain_openai\\chat_models\\base.py:1375: UserWarning: Cannot use method='json_schema' with model gpt-3.5-turbo since it doesn't support OpenAI's Structured Output API. You can see supported models here: https://platform.openai.com/docs/guides/structured-outputs#supported-models. To fix this warning, set `method='function_calling'. Overriding to method='function_calling'.\n",
      "  warnings.warn(\n"
     ]
    }
   ],
   "source": [
    "llm_structured = llm.with_structured_output(Grader)\n",
    "system = \"\"\"You are a document grader. You will be given a question and documents.If the question is relevant to\n",
    "the documents then you will return binary_score = 'yes' and if the question is not relevant to documents\n",
    "then you will return binary_score = 'no'.check the question and document carefully then only make any decision  \n",
    "             \n",
    "         \"\"\"\n",
    "grade_prompt = ChatPromptTemplate.from_messages(\n",
    "    [(\"system\",system),\n",
    "     (\"human\", \"documents/n/n{documents} and question/n/n {question}\")]\n",
    "\n",
    ")\n",
    "document_grader = grade_prompt| llm_structured"
   ]
  },
  {
   "cell_type": "code",
   "execution_count": 27,
   "metadata": {},
   "outputs": [],
   "source": [
    "## i created the document grader\n",
    "## now i will check either my document grader is working fine or not\n"
   ]
  },
  {
   "cell_type": "code",
   "execution_count": 28,
   "metadata": {},
   "outputs": [],
   "source": [
    "question = \"what is agentic ai?\"\n",
    "documents = retriever.invoke(question)\n",
    "binary_score =document_grader.invoke({\"question\":question,\"documents\":documents})"
   ]
  },
  {
   "cell_type": "code",
   "execution_count": 29,
   "metadata": {},
   "outputs": [
    {
     "name": "stdout",
     "output_type": "stream",
     "text": [
      "binary_score='yes'\n"
     ]
    }
   ],
   "source": [
    "print(binary_score)"
   ]
  },
  {
   "cell_type": "code",
   "execution_count": 30,
   "metadata": {},
   "outputs": [],
   "source": [
    "question = \"who is the PM of India?\"\n",
    "documents = retriever.invoke(question)\n",
    "binary_score =document_grader.invoke({\"question\":question,\"documents\":documents})"
   ]
  },
  {
   "cell_type": "code",
   "execution_count": 31,
   "metadata": {},
   "outputs": [
    {
     "data": {
      "text/plain": [
       "Document(metadata={'description': 'Building agents with LLM (large language model) as its core controller is a cool concept. Several proof-of-concepts demos, such as AutoGPT, GPT-Engineer and BabyAGI, serve as inspiring examples. The potentiality of LLM extends beyond generating well-written copies, stories, essays and programs; it can be framed as a powerful general problem solver.\\nAgent System Overview\\nIn a LLM-powered autonomous agent system, LLM functions as the agent’s brain, complemented by several key components:\\n\\nPlanning\\n\\nSubgoal and decomposition: The agent breaks down large tasks into smaller, manageable subgoals, enabling efficient handling of complex tasks.\\nReflection and refinement: The agent can do self-criticism and self-reflection over past actions, learn from mistakes and refine them for future steps, thereby improving the quality of final results.\\n\\n\\nMemory\\n\\nShort-term memory: I would consider all the in-context learning (See Prompt Engineering) as utilizing short-term memory of the model to learn.\\nLong-term memory: This provides the agent with the capability to retain and recall (infinite) information over extended periods, often by leveraging an external vector store and fast retrieval.\\n\\n\\nTool use\\n\\nThe agent learns to call external APIs for extra information that is missing from the model weights (often hard to change after pre-training), including current information, code execution capability, access to proprietary information sources and more.\\n\\n\\n\\n\\nFig. 1. Overview of a LLM-powered autonomous agent system.\\nComponent One: Planning\\nA complicated task usually involves many steps. An agent needs to know what they are and plan ahead.', 'language': 'en', 'source': 'https://lilianweng.github.io/posts/2023-06-23-agent/', 'title': \"LLM Powered Autonomous Agents | Lil'Log\"}, page_content=\"Planning is essentially in order to optimize believability at the moment vs in time.\\nPrompt template: {Intro of an agent X}. Here is X's plan today in broad strokes: 1)\")"
      ]
     },
     "execution_count": 31,
     "metadata": {},
     "output_type": "execute_result"
    }
   ],
   "source": [
    "documents[0]"
   ]
  },
  {
   "cell_type": "code",
   "execution_count": 32,
   "metadata": {},
   "outputs": [
    {
     "name": "stdout",
     "output_type": "stream",
     "text": [
      "binary_score='no'\n"
     ]
    }
   ],
   "source": [
    "print(binary_score)"
   ]
  },
  {
   "cell_type": "code",
   "execution_count": 33,
   "metadata": {},
   "outputs": [],
   "source": [
    "## now i will create the question rewritter\n",
    "## so why and where the question rewriter will be used\n",
    "## when documents along with the question will be sent to document grader\n",
    "## of w eget binary_score = no\n",
    "## means these documents are not realate dto question\n",
    "## then that question will be sent to do web search\n",
    "## before sending the question to websearch i will rewrite teh question\n",
    "## so that it can extract the maximum information from the website"
   ]
  },
  {
   "cell_type": "code",
   "execution_count": 34,
   "metadata": {},
   "outputs": [],
   "source": [
    "system = \"\"\"  You are a question rewriter. You will be given a question. Your job is to understand the context of the question carefully\n",
    "and update the question so that we can extract maximum information with the help of this question.Do not add any extra thing to questio.\n",
    "if you are not able to do some addition on it .let the question as it as.\n",
    "              \n",
    "               \"\"\"\n",
    "prompt = ChatPromptTemplate.from_messages(\n",
    "    [\n",
    "        (\"system\",system),\n",
    "        (\"human\",\"question:{question}\")\n",
    "    ]\n",
    ")\n",
    "\n",
    "question_rewriter = prompt | llm | StrOutputParser()"
   ]
  },
  {
   "cell_type": "code",
   "execution_count": 35,
   "metadata": {},
   "outputs": [
    {
     "data": {
      "text/plain": [
       "'Who currently holds the position of Prime Minister in India?'"
      ]
     },
     "execution_count": 35,
     "metadata": {},
     "output_type": "execute_result"
    }
   ],
   "source": [
    "question_rewriter.invoke(\"who is the pm of India?\") ## so my question rewriter is working fine as of now"
   ]
  },
  {
   "cell_type": "code",
   "execution_count": 36,
   "metadata": {},
   "outputs": [],
   "source": [
    "## now creating all the functions for the graph which will act as the nodes inside the graph\n",
    "def retrieve(state):\n",
    "    \"This function will retrieve the relevant documents from the vector database based on the user question\"\n",
    "    question = state[\"question\"] \n",
    "    documents = retriever.get_relevant_documents(question)\n",
    "\n",
    "    return {\"question\":question,\"documents\":documents}"
   ]
  },
  {
   "cell_type": "code",
   "execution_count": 37,
   "metadata": {},
   "outputs": [],
   "source": [
    "def grade_documents(state):\n",
    "    \"This function will grade documents based on the question\"\n",
    "    question = state[\"question\"] ## user question\n",
    "    documents = state[\"documents\"] ## documents fetched form the vector datavbase\n",
    "\n",
    "    filtered_docs = []\n",
    "    web_search = \"no\"\n",
    "\n",
    "    for d in docs:\n",
    "        score = document_grader.invoke({\"question\":question,\"documents\":d})\n",
    "        binary_score = score.binary_score\n",
    "        if binary_score == \"yes\":\n",
    "            filtered_docs.append(d)\n",
    "        else:\n",
    "            web_search = \"yes\"\n",
    "    return {\"question\":question,\"documents\":filtered_docs,\"web_search\":web_search}"
   ]
  },
  {
   "cell_type": "code",
   "execution_count": 58,
   "metadata": {},
   "outputs": [],
   "source": [
    "def generate(state):\n",
    "    \"This function will generate response based on the question and the retrieved documents, this will be used if web_search == 'no' \"\n",
    "    question = state[\"question\"]\n",
    "    documents = state[\"documents\"]\n",
    "\n",
    "    generated_response = rag_chain.invoke({\"question\":question,\"context\":documents})\n",
    "\n",
    "    return {\"question\":question,\"documents\":documents,\"response\":generated_response}\n",
    "\n"
   ]
  },
  {
   "cell_type": "code",
   "execution_count": 39,
   "metadata": {},
   "outputs": [],
   "source": [
    "## writting query rewritter function\n",
    "def transform_query(state):\n",
    "    \"This function will rewrite the query, so that this query may able to fetch maximum information from the web search\"\n",
    "    question = state[\"question\"]\n",
    "    documents = state[\"documents\"]\n",
    "\n",
    "    new_question = question_rewriter.invoke({\"question\":question})\n",
    "    return {\"question\":new_question,\"documents\":documents}\n"
   ]
  },
  {
   "cell_type": "code",
   "execution_count": 40,
   "metadata": {},
   "outputs": [],
   "source": [
    "tavily_api_key = os.getenv(\"TAVILY_API_KEY\")"
   ]
  },
  {
   "cell_type": "code",
   "execution_count": 41,
   "metadata": {},
   "outputs": [],
   "source": [
    "import os\n",
    "\n",
    "# Set your Tavily API key\n",
    "os.environ[\"TAVILY_API_KEY\"] = tavily_api_key\n"
   ]
  },
  {
   "cell_type": "code",
   "execution_count": 42,
   "metadata": {},
   "outputs": [],
   "source": [
    "from langchain_community.tools.tavily_search import TavilySearchResults\n",
    "tavily_search = TavilySearchResults(k=3)"
   ]
  },
  {
   "cell_type": "code",
   "execution_count": 43,
   "metadata": {},
   "outputs": [
    {
     "data": {
      "text/plain": [
       "[{'url': 'https://www.pmindia.gov.in/en/pms-profile/',\n",
       "  'content': 'Shri Narendra Modi was sworn-in as India’s Prime Minister for the third time on 9th June 2024, following another decisive victory in the 2024 Parliamentary elections. The first ever Prime Minister to be born after Independence, Shri Modi has previously served as the Prime Minister of India from 2014 to 2019, and from 2019 to 2024. Leading international agencies have noted that under the leadership of PM Narendra Modi, India has been eliminating poverty at record pace. In June 2024, after assuming office for the third term, one of the first decisions of the Cabinet was to assist 3 crore additional rural and urban households for the construction of houses, underscoring Shri Narendra Modi’s commitment to addressing the nation’s housing needs and ensuring dignity and a quality life for every citizen. PM Modi launched the ‘Make in India’ initiative to turn India into an international manufacturing powerhouse.'},\n",
       " {'url': 'https://en.wikipedia.org/wiki/Prime_Minister_of_India',\n",
       "  'content': \"Also, as the Minister of Personnel, Public Grievances and Pensions, the PM also exercises control over the Indian Administrative Service (IAS),[93] the country's premier civil service,[94][95] which staffs most of the senior civil service positions;[94][95] the Public Enterprises Selection Board (PESB);[96][97] and the Central Bureau of Investigation (CBI),[96][97] except for the selection of its director, who is chosen by a committee of: (a) the prime minister, as chairperson; (b) the leader of the opposition in Lok Sabha; and (c) the chief justice.[98]\\nUnlike most other countries, the prime minister does not have much influence over the selection of judges, that is done by a collegium of judges consisting of the Chief Justice of India, four senior most judges of the Supreme Court of India and the chief justice—or the senior-most judge—of the concerned state high court.[99][100] But during his reign, the 2002 Gujarat communal riots in the state of Gujarat took place; resulting in about 2,000 deaths.[55] Vajpayee's tenure as prime minister came to an end in May 2004, making him the first non-Congress PM to complete a full five-year tenure.[53]\\nIn the 2004 election, the Congress emerged as the largest party in a hung parliament; Congress-led United Progressive Alliance (UPA)—with outside support from the Left Front, the Samajwadi Party (SP) and Bahujan Samaj Party (BSP) among others—proved a majority in the Lok Sabha,[56] and Manmohan Singh was elected prime minister; becoming the first Sikh prime minister of the nation.[56] During his tenure, the country retained the economic momentum gained during Prime Minister Vajpayee's tenure.[57] Apart from this, the government succeeded in getting the National Rural Employment Guarantee Act, 2005, and the Right to Information Act, 2005 passed in the parliament.[58][59] Further, the government strengthened India's relations with nations like Afghanistan;[60][61] Russia;[62] The prime minister of India (IAST: Bhārat kē Pradhānamantrī) is the head of government of the Republic of India.[2][3] Executive authority is vested in the prime minister and his chosen Council of Ministers,[4][5][6] despite the president of India being the nominal head of the executive.[7][8][9][10]\\nThe prime minister is often the leader of the party or the coalition with a majority in the lower house of the Parliament of India, the Lok Sabha,[11] which is the main legislative body in the Republic of India.[12] In the subsequent general election, the Congress secured an absolute majority, winning 401 of 552 seats in the Lok Sabha, the maximum number received by any party in the history of India.[31][32] Vishwanath Pratap Singh—first finance minister and then later defence minister in Gandhi's cabinet—uncovered irregularities, in what became known as the Bofors scandal, during his stint at the Ministry of Defence; Singh was subsequently expelled from Congress and formed the Janata Dal and—with the help of several anti-Congress parties—also formed the National Front, a coalition of many political parties.[33]\\nIn the general election of 1989, the National Front—with outside support from the Bharatiya Janata Party (BJP) and the Left Front—came to power.[34] V. P. Singh was elected prime minister.[34] Languages of the Prime Minister's Office\\nThe official website of the Prime Minister's Office is available in 11 Indian languages namely Assamese, Bengali, Gujarati, Kannada, Malayalam, Meitei (Manipuri), Marathi, Odia, Punjabi, Tamil and Telugu, out of the 22 official languages of the Indian Republic, in addition to English and Hindi.[105]\\nThe eleven Indian language websites can be accessed at the following links:\\nCompensation and benefits\\nArticle 75 of the Constitution of India confers the Parliament with the power to decide the remuneration and other benefits of the prime minister and other ministers are to be decided by the Parliament.[106] and is renewed from time to time.\"},\n",
       " {'url': 'https://en.wikipedia.org/wiki/List_of_prime_ministers_of_India',\n",
       "  'content': \"The prime minister is the leader elected by the party with a majority in the lower house of the Indian parliament, the Lok Sabha, which is the main legislative body in the Republic of India.[9] This Council, which is collectively responsible to the Lok Sabha as per Article 75(3), assists the president regarding the operations under the latter's powers; however, by the virtue of Article 74 of the Constitution, such 'aid and advice' tendered by the Council is binding.\\n The prime minister is appointed by the president of India; however, the prime minister has to enjoy the confidence of the majority of Lok Sabha members, who are directly elected every five years, unless a prime minister resigns. Modi has served as prime minister since.[21]\\nList of prime ministers of India\\nColour key (for political coalitions/parties):\\nList of prime ministers by length of term\\nList by party\\nParties by total duration (in years) of holding Prime Minister's Office\\nSee also\\nFootnotes\\nNotes\\nReferences\\nExternal links In 1998, Vajpayee's National Democratic Alliance (NDA) won the general election, the first non-Congress alliance to do so, and he served a full five-year term as prime minister.[19] The Congress, and its United Progressive Alliance won the general elections in 2004 and 2009, Manmohan Singh serving as prime minister between 2004 and 2014.[20]\"},\n",
       " {'url': 'https://timesofindia.indiatimes.com/india/list-of-all-prime-ministers-of-india-1947-to-2024/articleshow/111490467.cms',\n",
       "  'content': 'India has had 14 Prime Ministers since 1947, starting with Jawaharlal Nehru. Notably, Indira Gandhi was the first female Prime Minister, and the Nehru-Gandhi family has held the position for'},\n",
       " {'url': 'https://www.pmindia.gov.in/en/',\n",
       "  'content': 'PM’s Funds PM National Relief Fund PM’s Visits PM’s Speeches (Videos) 18 Nov, 2024The Prime Minister Shri Narendra Modi today emphasised that India stands committed to promote food security and eliminate poverty. PM addresses G 20 session on Social Inclusion and the Fight Against Hunger and Poverty 18 Nov, 2024Prime Minister Shri Narendra Modi addressed the opening session of the G 20 Summit today on ‘Social Inclusion and the Fight against Hunger and Poverty’. 18 Nov, 2024The Prime Minister Shri Narendra Modi today condoled the demise of Shri Giridhar Malviya, the great grandson of Bharat Ratna Mahamana Pandit Madan Mohan Malviya. Shri Narendra Modi was sworn-in as India’s Prime Minister for the third time on 9th June 2024, following another decisive victory in the 2024 Parliamentary elections.'}]"
      ]
     },
     "execution_count": 43,
     "metadata": {},
     "output_type": "execute_result"
    }
   ],
   "source": [
    "query = \"who is the prime minister of India\"\n",
    "response = tavily_search.invoke({\"query\":question})\n",
    "response"
   ]
  },
  {
   "cell_type": "code",
   "execution_count": 44,
   "metadata": {},
   "outputs": [],
   "source": [
    "content = \"/n\".join([d[\"content\"] for d in response])"
   ]
  },
  {
   "cell_type": "code",
   "execution_count": 45,
   "metadata": {},
   "outputs": [
    {
     "data": {
      "text/plain": [
       "['Shri Narendra Modi was sworn-in as India’s Prime Minister for the third time on 9th June 2024, following another decisive victory in the 2024 Parliamentary elections. The first ever Prime Minister to be born after Independence, Shri Modi has previously served as the Prime Minister of India from 2014 to 2019, and from 2019 to 2024. Leading international agencies have noted that under the leadership of PM Narendra Modi, India has been eliminating poverty at record pace. In June 2024, after assuming office for the third term, one of the first decisions of the Cabinet was to assist 3 crore additional rural and urban households for the construction of houses, underscoring Shri Narendra Modi’s commitment to addressing the nation’s housing needs and ensuring dignity and a quality life for every citizen. PM Modi launched the ‘Make in India’ initiative to turn India into an international manufacturing powerhouse.',\n",
       " \"Also, as the Minister of Personnel, Public Grievances and Pensions, the PM also exercises control over the Indian Administrative Service (IAS),[93] the country's premier civil service,[94][95] which staffs most of the senior civil service positions;[94][95] the Public Enterprises Selection Board (PESB);[96][97] and the Central Bureau of Investigation (CBI),[96][97] except for the selection of its director, who is chosen by a committee of: (a) the prime minister, as chairperson; (b) the leader of the opposition in Lok Sabha; and (c) the chief justice.[98]\\nUnlike most other countries, the prime minister does not have much influence over the selection of judges, that is done by a collegium of judges consisting of the Chief Justice of India, four senior most judges of the Supreme Court of India and the chief justice—or the senior-most judge—of the concerned state high court.[99][100] But during his reign, the 2002 Gujarat communal riots in the state of Gujarat took place; resulting in about 2,000 deaths.[55] Vajpayee's tenure as prime minister came to an end in May 2004, making him the first non-Congress PM to complete a full five-year tenure.[53]\\nIn the 2004 election, the Congress emerged as the largest party in a hung parliament; Congress-led United Progressive Alliance (UPA)—with outside support from the Left Front, the Samajwadi Party (SP) and Bahujan Samaj Party (BSP) among others—proved a majority in the Lok Sabha,[56] and Manmohan Singh was elected prime minister; becoming the first Sikh prime minister of the nation.[56] During his tenure, the country retained the economic momentum gained during Prime Minister Vajpayee's tenure.[57] Apart from this, the government succeeded in getting the National Rural Employment Guarantee Act, 2005, and the Right to Information Act, 2005 passed in the parliament.[58][59] Further, the government strengthened India's relations with nations like Afghanistan;[60][61] Russia;[62] The prime minister of India (IAST: Bhārat kē Pradhānamantrī) is the head of government of the Republic of India.[2][3] Executive authority is vested in the prime minister and his chosen Council of Ministers,[4][5][6] despite the president of India being the nominal head of the executive.[7][8][9][10]\\nThe prime minister is often the leader of the party or the coalition with a majority in the lower house of the Parliament of India, the Lok Sabha,[11] which is the main legislative body in the Republic of India.[12] In the subsequent general election, the Congress secured an absolute majority, winning 401 of 552 seats in the Lok Sabha, the maximum number received by any party in the history of India.[31][32] Vishwanath Pratap Singh—first finance minister and then later defence minister in Gandhi's cabinet—uncovered irregularities, in what became known as the Bofors scandal, during his stint at the Ministry of Defence; Singh was subsequently expelled from Congress and formed the Janata Dal and—with the help of several anti-Congress parties—also formed the National Front, a coalition of many political parties.[33]\\nIn the general election of 1989, the National Front—with outside support from the Bharatiya Janata Party (BJP) and the Left Front—came to power.[34] V. P. Singh was elected prime minister.[34] Languages of the Prime Minister's Office\\nThe official website of the Prime Minister's Office is available in 11 Indian languages namely Assamese, Bengali, Gujarati, Kannada, Malayalam, Meitei (Manipuri), Marathi, Odia, Punjabi, Tamil and Telugu, out of the 22 official languages of the Indian Republic, in addition to English and Hindi.[105]\\nThe eleven Indian language websites can be accessed at the following links:\\nCompensation and benefits\\nArticle 75 of the Constitution of India confers the Parliament with the power to decide the remuneration and other benefits of the prime minister and other ministers are to be decided by the Parliament.[106] and is renewed from time to time.\",\n",
       " \"The prime minister is the leader elected by the party with a majority in the lower house of the Indian parliament, the Lok Sabha, which is the main legislative body in the Republic of India.[9] This Council, which is collectively responsible to the Lok Sabha as per Article 75(3), assists the president regarding the operations under the latter's powers; however, by the virtue of Article 74 of the Constitution, such 'aid and advice' tendered by the Council is binding.\\n The prime minister is appointed by the president of India; however, the prime minister has to enjoy the confidence of the majority of Lok Sabha members, who are directly elected every five years, unless a prime minister resigns. Modi has served as prime minister since.[21]\\nList of prime ministers of India\\nColour key (for political coalitions/parties):\\nList of prime ministers by length of term\\nList by party\\nParties by total duration (in years) of holding Prime Minister's Office\\nSee also\\nFootnotes\\nNotes\\nReferences\\nExternal links In 1998, Vajpayee's National Democratic Alliance (NDA) won the general election, the first non-Congress alliance to do so, and he served a full five-year term as prime minister.[19] The Congress, and its United Progressive Alliance won the general elections in 2004 and 2009, Manmohan Singh serving as prime minister between 2004 and 2014.[20]\",\n",
       " 'India has had 14 Prime Ministers since 1947, starting with Jawaharlal Nehru. Notably, Indira Gandhi was the first female Prime Minister, and the Nehru-Gandhi family has held the position for',\n",
       " 'PM’s Funds PM National Relief Fund PM’s Visits PM’s Speeches (Videos) 18 Nov, 2024The Prime Minister Shri Narendra Modi today emphasised that India stands committed to promote food security and eliminate poverty. PM addresses G 20 session on Social Inclusion and the Fight Against Hunger and Poverty 18 Nov, 2024Prime Minister Shri Narendra Modi addressed the opening session of the G 20 Summit today on ‘Social Inclusion and the Fight against Hunger and Poverty’. 18 Nov, 2024The Prime Minister Shri Narendra Modi today condoled the demise of Shri Giridhar Malviya, the great grandson of Bharat Ratna Mahamana Pandit Madan Mohan Malviya. Shri Narendra Modi was sworn-in as India’s Prime Minister for the third time on 9th June 2024, following another decisive victory in the 2024 Parliamentary elections.']"
      ]
     },
     "execution_count": 45,
     "metadata": {},
     "output_type": "execute_result"
    }
   ],
   "source": [
    "content = [d[\"content\"] for d in response]\n",
    "content"
   ]
  },
  {
   "cell_type": "code",
   "execution_count": 49,
   "metadata": {},
   "outputs": [],
   "source": [
    "from langchain.schema import Document"
   ]
  },
  {
   "cell_type": "code",
   "execution_count": 50,
   "metadata": {},
   "outputs": [],
   "source": [
    "def net_search(state):\n",
    "    question = state[\"question\"]\n",
    "    documents = state[\"documents\"]\n",
    "    response = tavily_search.invoke({\"query\":question})\n",
    "    content = \"/n\".join([d[\"content\"] for d in response])\n",
    "    document = Document(page_content=content)\n",
    "    documents.append(document)\n",
    "    return {\"question\":question,\"documents\":documents}\n"
   ]
  },
  {
   "cell_type": "code",
   "execution_count": 51,
   "metadata": {},
   "outputs": [],
   "source": [
    "## now writting the function which will decide\n",
    "## either to generate or transform the query\n",
    "def decide_to_generate(state):\n",
    "    \"this function takes the decision either to generate or transform the query\"\n",
    "    question = state[\"question\"]\n",
    "    documents = state[\"documents\"]\n",
    "    web_search = state[\"web_search\"]\n",
    "\n",
    "    if web_search == \"yes\":\n",
    "        return \"transform_query\"\n",
    "    else:\n",
    "        return \"generate\""
   ]
  },
  {
   "cell_type": "code",
   "execution_count": 52,
   "metadata": {},
   "outputs": [],
   "source": [
    "## now i will be creating the graph\n",
    "from langgraph.graph import StateGraph,START,END\n",
    "from typing import List\n",
    "from typing_extensions import TypedDict"
   ]
  },
  {
   "cell_type": "code",
   "execution_count": 59,
   "metadata": {},
   "outputs": [
    {
     "data": {
      "text/plain": [
       "<langgraph.graph.state.StateGraph at 0x24c246b3a60>"
      ]
     },
     "execution_count": 59,
     "metadata": {},
     "output_type": "execute_result"
    }
   ],
   "source": [
    "class State(TypedDict):\n",
    "    question:str\n",
    "    documents:List[str]\n",
    "    web_search:str\n",
    "    response:str\n",
    "    \n",
    "workflow = StateGraph(State)\n",
    "\n",
    "workflow.add_node(\"retrieve\",retrieve)\n",
    "workflow.add_node(\"document_grader\",grade_documents)\n",
    "workflow.add_node(\"generate\",generate)\n",
    "workflow.add_node(\"net_search\",net_search)\n",
    "workflow.add_node(\"transform_query\",transform_query)\n",
    "## created all the nodes now i will be creating all the edges\n",
    "workflow.add_edge(START,\"retrieve\")\n",
    "workflow.add_edge(\"retrieve\",\"document_grader\")\n",
    "## now using conditional edge\n",
    "workflow.add_conditional_edges(\"document_grader\",decide_to_generate,{\"transform_query\":\"transform_query\",\"generate\":\"generate\"})\n",
    "workflow.add_edge(\"transform_query\",\"net_search\")\n",
    "workflow.add_edge(\"net_search\",\"generate\")\n",
    "workflow.add_edge(\"generate\",END)"
   ]
  },
  {
   "cell_type": "code",
   "execution_count": 60,
   "metadata": {},
   "outputs": [],
   "source": [
    "app = workflow.compile()"
   ]
  },
  {
   "cell_type": "code",
   "execution_count": 61,
   "metadata": {},
   "outputs": [
    {
     "data": {
      "image/png": "[encoded data removed]",
      "text/plain": [
       "<IPython.core.display.Image object>"
      ]
     },
     "metadata": {},
     "output_type": "display_data"
    }
   ],
   "source": [
    "# Display the graph\n",
    "from IPython.display import Image, display # type: ignore\n",
    "display(Image(app.get_graph(xray=True).draw_mermaid_png()))"
   ]
  },
  {
   "cell_type": "code",
   "execution_count": null,
   "metadata": {},
   "outputs": [],
   "source": [
    "## till here i have created my graph\n",
    "## now i will test my graph \n",
    "## is it working fine or not\n",
    "## i love creating graphs for ai agents"
   ]
  },
  {
   "cell_type": "code",
   "execution_count": 62,
   "metadata": {},
   "outputs": [],
   "source": [
    "from pprint import pprint\n",
    "inputs = {\"question\":\"tell me about agnet memory\"}"
   ]
  },
  {
   "cell_type": "code",
   "execution_count": 64,
   "metadata": {},
   "outputs": [
    {
     "name": "stdout",
     "output_type": "stream",
     "text": [
      "\"Node 'retrieve':\"\n",
      "'\\n---\\n'\n",
      "\"Node 'document_grader':\"\n",
      "'\\n---\\n'\n",
      "\"Node 'transform_query':\"\n",
      "'\\n---\\n'\n",
      "\"Node 'net_search':\"\n",
      "'\\n---\\n'\n",
      "\"Node 'generate':\"\n",
      "'\\n---\\n'\n",
      "('Agent memory in the context of cognitive processes refers to both short-term '\n",
      " 'memory through context windows and long-term memory through techniques like '\n",
      " 'Retrieval-Augmented Generation (RAG). Short-term memory allows models to '\n",
      " 'learn from in-context information, while long-term memory enhances '\n",
      " 'information retention and recall over extended periods by leveraging '\n",
      " 'techniques like RAG. The interplay between short-term and long-term memory '\n",
      " 'is essential for developing more human-like AI responses.')\n"
     ]
    }
   ],
   "source": [
    "for output in app.stream(inputs):\n",
    "    for key, value in output.items():\n",
    "        # Node\n",
    "        pprint(f\"Node '{key}':\")\n",
    "        # Optional: print full state at each node\n",
    "        # pprint.pprint(value[\"keys\"], indent=2, width=80, depth=None)\n",
    "    pprint(\"\\n---\\n\")\n",
    "# Final generation\n",
    "pprint(value[\"response\"])"
   ]
  },
  {
   "cell_type": "code",
   "execution_count": 66,
   "metadata": {},
   "outputs": [
    {
     "ename": "IndentationError",
     "evalue": "expected an indented block after 'for' statement on line 1 (1492874160.py, line 9)",
     "output_type": "error",
     "traceback": [
      "\u001b[1;36m  Cell \u001b[1;32mIn[66], line 9\u001b[1;36m\u001b[0m\n\u001b[1;33m    pprint(value[\"response\"])\u001b[0m\n\u001b[1;37m    ^\u001b[0m\n\u001b[1;31mIndentationError\u001b[0m\u001b[1;31m:\u001b[0m expected an indented block after 'for' statement on line 1\n"
     ]
    }
   ],
   "source": [
    "for output in app.stream(inputs):\n",
    "    for key, value in output.items():\n",
    "        # Node\n",
    "        pprint(f\"Node '{key}':\")\n",
    "        # Optional: print full state at each node\n",
    "        # pprint.pprint(value[\"keys\"], indent=2, width=80, depth=None)\n",
    "    pprint(\"\\n---\\n\")\n",
    "# Final generation\n",
    "pprint(value[\"response\"])"
   ]
  },
  {
   "cell_type": "code",
   "execution_count": 67,
   "metadata": {},
   "outputs": [],
   "source": [
    "response = app.stream(inputs)"
   ]
  },
  {
   "cell_type": "code",
   "execution_count": 68,
   "metadata": {},
   "outputs": [
    {
     "data": {
      "text/plain": [
       "<generator object Pregel.stream at 0x0000024C24760040>"
      ]
     },
     "execution_count": 68,
     "metadata": {},
     "output_type": "execute_result"
    }
   ],
   "source": [
    "response"
   ]
  },
  {
   "cell_type": "code",
   "execution_count": 69,
   "metadata": {},
   "outputs": [],
   "source": [
    "response = app.invoke(inputs)"
   ]
  },
  {
   "cell_type": "code",
   "execution_count": 72,
   "metadata": {},
   "outputs": [
    {
     "data": {
      "text/plain": [
       "'Agent memory refers to the mechanisms used by AI agents to retain and recall information over short and extended periods. It involves short-term memory through context windows and long-term memory using methods like Retrieval-Augmented Generation (RAG). These memory components are crucial for enabling more coherent and informed responses in AI agents.'"
      ]
     },
     "execution_count": 72,
     "metadata": {},
     "output_type": "execute_result"
    }
   ],
   "source": [
    "response[\"response\"]"
   ]
  },
  {
   "cell_type": "code",
   "execution_count": 73,
   "metadata": {},
   "outputs": [
    {
     "data": {
      "text/plain": [
       "{'question': 'Who currently holds the position of Prime Minister in India?',\n",
       " 'documents': [Document(metadata={}, page_content=\"To hold the position of Prime Minister (PM), one must be a member of the political party or coalition that holds a majority in the Lok Sabha, one of India's two houses of parliament. The Rajya Sabha, also known as the Council of the States, is the other house. Currently, Narendra Damodardas Modi holds the position of Prime Minister of India./nCurrently, Prime Minister Narendra Modi holds the position as the 14th Prime Minister of India. He has served two consecutive terms and becomes the fourth Indian Prime Minister to achieve this feat and the first non-Congress Prime Minister to do so. Note: The Prime Minister of India is the leader of the government in the Republic of India/nNarendra Modi is the current prime minister of India for the 3rd consecutive term since 2014. In this article, we have provided the List of Prime Ministers of India From 1947 to 2024. ... Still, they need the backing of most of the Lok Sabha members, elected directly every five years, to hold onto the position. The prime minister may be present/nRajiv Gandhi, an Indian statesman, held the position of the sixth Prime Minister of India from 1984 to 1989. P. Singh, was an Indian statesman who served as the seventh Prime Minister of India from 1989 to 1990. Chandra Shekhar, an Indian politician, held office as the eighth Prime Minister of India from November 10, 1990, to June 21, 1991. Atal Bihari Vajpayee, a revered Indian politician and statesman, held the position of the 10th Prime Minister of India for three distinct periods. Who is the current Prime Minister of India?/nAlso, as the Minister of Personnel, Public Grievances and Pensions, the PM also exercises control over the Indian Administrative Service (IAS),[93] the country's premier civil service,[94][95] which staffs most of the senior civil service positions;[94][95] the Public Enterprises Selection Board (PESB);[96][97] and the Central Bureau of Investigation (CBI),[96][97] except for the selection of its director, who is chosen by a committee of: (a) the prime minister, as chairperson; (b) the leader of the opposition in Lok Sabha; and (c) the chief justice.[98]\\nUnlike most other countries, the prime minister does not have much influence over the selection of judges, that is done by a collegium of judges consisting of the Chief Justice of India, four senior most judges of the Supreme Court of India and the chief justice—or the senior-most judge—of the concerned state high court.[99][100] But during his reign, the 2002 Gujarat communal riots in the state of Gujarat took place; resulting in about 2,000 deaths.[55] Vajpayee's tenure as prime minister came to an end in May 2004, making him the first non-Congress PM to complete a full five-year tenure.[53]\\nIn the 2004 election, the Congress emerged as the largest party in a hung parliament; Congress-led United Progressive Alliance (UPA)—with outside support from the Left Front, the Samajwadi Party (SP) and Bahujan Samaj Party (BSP) among others—proved a majority in the Lok Sabha,[56] and Manmohan Singh was elected prime minister; becoming the first Sikh prime minister of the nation.[56] During his tenure, the country retained the economic momentum gained during Prime Minister Vajpayee's tenure.[57] Apart from this, the government succeeded in getting the National Rural Employment Guarantee Act, 2005, and the Right to Information Act, 2005 passed in the parliament.[58][59] Further, the government strengthened India's relations with nations like Afghanistan;[60][61] Russia;[62] The prime minister of India (IAST: Bhārat kē Pradhānamantrī) is the head of government of the Republic of India.[2][3] Executive authority is vested in the prime minister and his chosen Council of Ministers,[4][5][6] despite the president of India being the nominal head of the executive.[7][8][9][10]\\nThe prime minister is often the leader of the party or the coalition with a majority in the lower house of the Parliament of India, the Lok Sabha,[11] which is the main legislative body in the Republic of India.[12] In the subsequent general election, the Congress secured an absolute majority, winning 401 of 552 seats in the Lok Sabha, the maximum number received by any party in the history of India.[31][32] Vishwanath Pratap Singh—first finance minister and then later defence minister in Gandhi's cabinet—uncovered irregularities, in what became known as the Bofors scandal, during his stint at the Ministry of Defence; Singh was subsequently expelled from Congress and formed the Janata Dal and—with the help of several anti-Congress parties—also formed the National Front, a coalition of many political parties.[33]\\nIn the general election of 1989, the National Front—with outside support from the Bharatiya Janata Party (BJP) and the Left Front—came to power.[34] V. P. Singh was elected prime minister.[34] Languages of the Prime Minister's Office\\nThe official website of the Prime Minister's Office is available in 11 Indian languages namely Assamese, Bengali, Gujarati, Kannada, Malayalam, Meitei (Manipuri), Marathi, Odia, Punjabi, Tamil and Telugu, out of the 22 official languages of the Indian Republic, in addition to English and Hindi.[105]\\nThe eleven Indian language websites can be accessed at the following links:\\nCompensation and benefits\\nArticle 75 of the Constitution of India confers the Parliament with the power to decide the remuneration and other benefits of the prime minister and other ministers are to be decided by the Parliament.[106] and is renewed from time to time.\")],\n",
       " 'web_search': 'yes',\n",
       " 'response': 'Narendra Damodardas Modi is the current Prime Minister of India, holding the position since 2014. He is serving his third consecutive term as the 14th Prime Minister of India.'}"
      ]
     },
     "execution_count": 73,
     "metadata": {},
     "output_type": "execute_result"
    }
   ],
   "source": [
    "question = \"who is pm of India\"\n",
    "inputs = {\"question\":question}\n",
    "response = app.invoke(inputs)\n",
    "response"
   ]
  },
  {
   "cell_type": "code",
   "execution_count": null,
   "metadata": {},
   "outputs": [],
   "source": []
  },
  {
   "cell_type": "code",
   "execution_count": null,
   "metadata": {},
   "outputs": [],
   "source": []
  },
  {
   "cell_type": "code",
   "execution_count": null,
   "metadata": {},
   "outputs": [],
   "source": []
  },
  {
   "cell_type": "code",
   "execution_count": null,
   "metadata": {},
   "outputs": [],
   "source": []
  }
 ],
 "metadata": {
  "kernelspec": {
   "display_name": "venv",
   "language": "python",
   "name": "python3"
  },
  "language_info": {
   "codemirror_mode": {
    "name": "ipython",
    "version": 3
   },
   "file_extension": ".py",
   "mimetype": "text/x-python",
   "name": "python",
   "nbconvert_exporter": "python",
   "pygments_lexer": "ipython3",
   "version": "3.10.0"
  }
 },
 "nbformat": 4,
 "nbformat_minor": 2
}
